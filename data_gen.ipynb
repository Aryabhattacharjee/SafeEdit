{
 "cells": [
  {
   "cell_type": "code",
   "execution_count": 15,
   "metadata": {},
   "outputs": [
    {
     "name": "stdout",
     "output_type": "stream",
     "text": [
      "JSON file has been created at /home/arya/my_python/safeedit/qa_data.json\n"
     ]
    }
   ],
   "source": [
    "import json\n",
    "\n",
    "# Input file path\n",
    "input_file_path = '/home/arya/my_python/safeedit/analogy.txt'\n",
    "\n",
    "# Read the input file\n",
    "with open(input_file_path, 'r') as file:\n",
    "    lines = file.readlines()\n",
    "\n",
    "# Initialize variables\n",
    "qa_data = []\n",
    "\n",
    "# Process lines to extract questions and answers\n",
    "for line in lines:\n",
    "    line = line.strip()\n",
    "    if line.startswith(\"Question:\"):\n",
    "        question = line.replace(\"Question:\", \"\").strip()\n",
    "    elif line.startswith(\"Answer:\"):\n",
    "        answer = line.replace(\"Answer:\", \"\").strip()\n",
    "        # Add the question-answer pair to the list\n",
    "        qa_data.append({\"Question\": question, \"Answer\": answer})\n",
    "\n",
    "# Output JSON file path\n",
    "output_file_path = '/home/arya/my_python/safeedit/qa_data.json'\n",
    "\n",
    "# Write the JSON data to the file with ensure_ascii=False\n",
    "with open(output_file_path, 'w', encoding='utf-8') as json_file:\n",
    "    json.dump(qa_data, json_file, indent=4, ensure_ascii=False)\n",
    "\n",
    "print(f\"JSON file has been created at {output_file_path}\")\n"
   ]
  },
  {
   "cell_type": "code",
   "execution_count": null,
   "metadata": {},
   "outputs": [],
   "source": []
  }
 ],
 "metadata": {
  "kernelspec": {
   "display_name": "Python (Unsloth)",
   "language": "python",
   "name": "unsloth"
  },
  "language_info": {
   "codemirror_mode": {
    "name": "ipython",
    "version": 3
   },
   "file_extension": ".py",
   "mimetype": "text/x-python",
   "name": "python",
   "nbconvert_exporter": "python",
   "pygments_lexer": "ipython3",
   "version": "3.10.12"
  }
 },
 "nbformat": 4,
 "nbformat_minor": 2
}
