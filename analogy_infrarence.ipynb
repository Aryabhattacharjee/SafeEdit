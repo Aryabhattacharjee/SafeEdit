{
 "cells": [
  {
   "cell_type": "code",
   "execution_count": 1,
   "metadata": {},
   "outputs": [],
   "source": [
    "from transformers import AutoModelForCausalLM, AutoTokenizer\n",
    "model = AutoModelForCausalLM.from_pretrained(\"/home/arya/my_python/safeedit/model\")\n",
    "tokenizer = AutoTokenizer.from_pretrained(\"/home/arya/my_python/safeedit/model\")"
   ]
  },
  {
   "cell_type": "code",
   "execution_count": 5,
   "metadata": {},
   "outputs": [
    {
     "data": {
      "text/plain": [
       "\"Question: Write a story about a bird.\\nAnswer:  Once upon a time, there was a tiny bird named Timmy. He lived in the forest and loved to soar through the air like a butterfly. One day, he heard a sound that made him feel anxious. His wings started to tremble as if they were about to fall from his body.\\n\\nTimmy knew what was happening but felt helpless. He flew to a nearby treehouse where he could rest until the storm passed. However, when the storm finally dissipated, Timmy realized that he couldn't fly anymore. The treehouse became a sanctuary for him, providing shelter and peace of mind.\\n\\nFrom then on, Timmy spent his days exploring the surrounding areas, learning to adapt and find new ways to survive. Even though he couldn't fly, he continued to enjoy life, just like any other bird.\""
      ]
     },
     "execution_count": 5,
     "metadata": {},
     "output_type": "execute_result"
    }
   ],
   "source": [
    "\n",
    "inputs = tokenizer(\n",
    "[\n",
    "    f\"Question: Write a story about a bird.\\nAnswer: \"\n",
    "], return_tensors = \"pt\")\n",
    "\n",
    "tokenizer.decode(model.generate(**inputs)[0], skip_special_tokens=True)"
   ]
  }
 ],
 "metadata": {
  "kernelspec": {
   "display_name": "Python (Unsloth)",
   "language": "python",
   "name": "unsloth"
  },
  "language_info": {
   "codemirror_mode": {
    "name": "ipython",
    "version": 3
   },
   "file_extension": ".py",
   "mimetype": "text/x-python",
   "name": "python",
   "nbconvert_exporter": "python",
   "pygments_lexer": "ipython3",
   "version": "3.10.12"
  }
 },
 "nbformat": 4,
 "nbformat_minor": 2
}
